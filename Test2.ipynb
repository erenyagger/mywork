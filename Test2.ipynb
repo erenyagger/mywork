{
 "cells": [
  {
   "cell_type": "code",
   "execution_count": 1,
   "metadata": {
    "id": "x40uU-yBqKih"
   },
   "outputs": [],
   "source": [
    "#импорт библиотек\n",
    "import pandas as pd\n",
    "import numpy as np\n",
    "import seaborn as sns\n",
    "import matplotlib.pyplot as plt"
   ]
  },
  {
   "cell_type": "code",
   "execution_count": 2,
   "metadata": {
    "colab": {
     "base_uri": "https://localhost:8080/",
     "height": 311
    },
    "executionInfo": {
     "elapsed": 14,
     "status": "error",
     "timestamp": 1653156578157,
     "user": {
      "displayName": "Антонов Максим",
      "userId": "16450571563850667497"
     },
     "user_tz": -180
    },
    "id": "H69EBNCFqKi7",
    "outputId": "e2aa2a4d-fcf5-4eff-918d-1d8a69e01241"
   },
   "outputs": [],
   "source": [
    "#загрузка набора данных из 1 сессии\n",
    "df=pd.read_csv('result_data.csv')"
   ]
  },
  {
   "cell_type": "markdown",
   "metadata": {
    "id": "GWuKs_miqKiz"
   },
   "source": [
    "\n",
    "## 2.1 Разбиение набора данных"
   ]
  },
  {
   "cell_type": "markdown",
   "metadata": {
    "id": "QABVCQrwqKi-"
   },
   "source": [
    "Разобъём набор данных таким образом, как это рекомендовано согласно документации `Sklearn`. А именно `30 на 70`. Поскольку данных у нас достаточное количество поэтому мы их можем поделить таким образом без риска потери данных.\n",
    "\n",
    "\n",
    "Как представленно в описании, такая выборка является оптимальной, поскольку абсолютное большинство данных должно находится при обучении модели, чтобы получить наиболее оптимизированную модель со стороны её точности\n",
    "\n",
    "### Стратификация\n",
    "При разделении стратифицируем данные, чтобы получить одинаковую в процентом соотношении выборку, чтобы не было перевеса на какой-то один класс и такая ситуация не повлияла на некорректное обучение модели"
   ]
  },
  {
   "cell_type": "code",
   "execution_count": 3,
   "metadata": {
    "id": "W6UZ0KDKqKjC",
    "outputId": "4f9b0871-2c77-4e1a-9dda-6fb93ce35ac6"
   },
   "outputs": [
    {
     "data": {
      "text/html": [
       "<div>\n",
       "<style scoped>\n",
       "    .dataframe tbody tr th:only-of-type {\n",
       "        vertical-align: middle;\n",
       "    }\n",
       "\n",
       "    .dataframe tbody tr th {\n",
       "        vertical-align: top;\n",
       "    }\n",
       "\n",
       "    .dataframe thead th {\n",
       "        text-align: right;\n",
       "    }\n",
       "</style>\n",
       "<table border=\"1\" class=\"dataframe\">\n",
       "  <thead>\n",
       "    <tr style=\"text-align: right;\">\n",
       "      <th></th>\n",
       "      <th>iso_code</th>\n",
       "      <th>continent</th>\n",
       "      <th>location</th>\n",
       "      <th>date</th>\n",
       "      <th>total_cases</th>\n",
       "      <th>new_cases</th>\n",
       "      <th>new_cases_smoothed</th>\n",
       "      <th>total_deaths</th>\n",
       "      <th>new_deaths</th>\n",
       "      <th>new_deaths_smoothed</th>\n",
       "      <th>...</th>\n",
       "      <th>life_expectancy</th>\n",
       "      <th>human_development_index</th>\n",
       "      <th>excess_mortality_cumulative_absolute</th>\n",
       "      <th>excess_mortality_cumulative</th>\n",
       "      <th>excess_mortality</th>\n",
       "      <th>excess_mortality_cumulative_per_million</th>\n",
       "      <th>mean_new_cases</th>\n",
       "      <th>mean_new_deaths</th>\n",
       "      <th>Rt</th>\n",
       "      <th>month</th>\n",
       "    </tr>\n",
       "  </thead>\n",
       "  <tbody>\n",
       "    <tr>\n",
       "      <th>0</th>\n",
       "      <td>ARG</td>\n",
       "      <td>South America</td>\n",
       "      <td>Argentina</td>\n",
       "      <td>2022-05-15</td>\n",
       "      <td>9135308.0</td>\n",
       "      <td>33989.0</td>\n",
       "      <td>4855.571</td>\n",
       "      <td>128776.0</td>\n",
       "      <td>47.0</td>\n",
       "      <td>6.714</td>\n",
       "      <td>...</td>\n",
       "      <td>76.67</td>\n",
       "      <td>0.845</td>\n",
       "      <td>0.0</td>\n",
       "      <td>0.0</td>\n",
       "      <td>0.0</td>\n",
       "      <td>0.0</td>\n",
       "      <td>10514.08362</td>\n",
       "      <td>147.565865</td>\n",
       "      <td>1.279443</td>\n",
       "      <td>5</td>\n",
       "    </tr>\n",
       "    <tr>\n",
       "      <th>1</th>\n",
       "      <td>ARG</td>\n",
       "      <td>South America</td>\n",
       "      <td>Argentina</td>\n",
       "      <td>2022-05-16</td>\n",
       "      <td>9135308.0</td>\n",
       "      <td>0.0</td>\n",
       "      <td>4855.571</td>\n",
       "      <td>128776.0</td>\n",
       "      <td>0.0</td>\n",
       "      <td>6.714</td>\n",
       "      <td>...</td>\n",
       "      <td>76.67</td>\n",
       "      <td>0.845</td>\n",
       "      <td>0.0</td>\n",
       "      <td>0.0</td>\n",
       "      <td>0.0</td>\n",
       "      <td>0.0</td>\n",
       "      <td>10514.08362</td>\n",
       "      <td>147.565865</td>\n",
       "      <td>1.279443</td>\n",
       "      <td>5</td>\n",
       "    </tr>\n",
       "    <tr>\n",
       "      <th>2</th>\n",
       "      <td>ARG</td>\n",
       "      <td>South America</td>\n",
       "      <td>Argentina</td>\n",
       "      <td>2022-05-17</td>\n",
       "      <td>9135308.0</td>\n",
       "      <td>0.0</td>\n",
       "      <td>4855.571</td>\n",
       "      <td>128776.0</td>\n",
       "      <td>0.0</td>\n",
       "      <td>6.714</td>\n",
       "      <td>...</td>\n",
       "      <td>76.67</td>\n",
       "      <td>0.845</td>\n",
       "      <td>0.0</td>\n",
       "      <td>0.0</td>\n",
       "      <td>0.0</td>\n",
       "      <td>0.0</td>\n",
       "      <td>10514.08362</td>\n",
       "      <td>147.565865</td>\n",
       "      <td>1.279443</td>\n",
       "      <td>5</td>\n",
       "    </tr>\n",
       "    <tr>\n",
       "      <th>3</th>\n",
       "      <td>ARG</td>\n",
       "      <td>South America</td>\n",
       "      <td>Argentina</td>\n",
       "      <td>2022-05-18</td>\n",
       "      <td>9135308.0</td>\n",
       "      <td>0.0</td>\n",
       "      <td>4855.571</td>\n",
       "      <td>128776.0</td>\n",
       "      <td>0.0</td>\n",
       "      <td>6.714</td>\n",
       "      <td>...</td>\n",
       "      <td>76.67</td>\n",
       "      <td>0.845</td>\n",
       "      <td>0.0</td>\n",
       "      <td>0.0</td>\n",
       "      <td>0.0</td>\n",
       "      <td>0.0</td>\n",
       "      <td>10514.08362</td>\n",
       "      <td>147.565865</td>\n",
       "      <td>1.279443</td>\n",
       "      <td>5</td>\n",
       "    </tr>\n",
       "    <tr>\n",
       "      <th>4</th>\n",
       "      <td>ARG</td>\n",
       "      <td>South America</td>\n",
       "      <td>Argentina</td>\n",
       "      <td>2022-05-19</td>\n",
       "      <td>9135308.0</td>\n",
       "      <td>0.0</td>\n",
       "      <td>4855.571</td>\n",
       "      <td>128776.0</td>\n",
       "      <td>0.0</td>\n",
       "      <td>6.714</td>\n",
       "      <td>...</td>\n",
       "      <td>76.67</td>\n",
       "      <td>0.845</td>\n",
       "      <td>0.0</td>\n",
       "      <td>0.0</td>\n",
       "      <td>0.0</td>\n",
       "      <td>0.0</td>\n",
       "      <td>10514.08362</td>\n",
       "      <td>147.565865</td>\n",
       "      <td>1.279443</td>\n",
       "      <td>5</td>\n",
       "    </tr>\n",
       "    <tr>\n",
       "      <th>...</th>\n",
       "      <td>...</td>\n",
       "      <td>...</td>\n",
       "      <td>...</td>\n",
       "      <td>...</td>\n",
       "      <td>...</td>\n",
       "      <td>...</td>\n",
       "      <td>...</td>\n",
       "      <td>...</td>\n",
       "      <td>...</td>\n",
       "      <td>...</td>\n",
       "      <td>...</td>\n",
       "      <td>...</td>\n",
       "      <td>...</td>\n",
       "      <td>...</td>\n",
       "      <td>...</td>\n",
       "      <td>...</td>\n",
       "      <td>...</td>\n",
       "      <td>...</td>\n",
       "      <td>...</td>\n",
       "      <td>...</td>\n",
       "      <td>...</td>\n",
       "    </tr>\n",
       "    <tr>\n",
       "      <th>188554</th>\n",
       "      <td>PCN</td>\n",
       "      <td>Oceania</td>\n",
       "      <td>Pitcairn</td>\n",
       "      <td>2021-06-16</td>\n",
       "      <td>0.0</td>\n",
       "      <td>0.0</td>\n",
       "      <td>0.000</td>\n",
       "      <td>0.0</td>\n",
       "      <td>0.0</td>\n",
       "      <td>0.000</td>\n",
       "      <td>...</td>\n",
       "      <td>0.00</td>\n",
       "      <td>0.000</td>\n",
       "      <td>0.0</td>\n",
       "      <td>0.0</td>\n",
       "      <td>0.0</td>\n",
       "      <td>0.0</td>\n",
       "      <td>0.00000</td>\n",
       "      <td>0.000000</td>\n",
       "      <td>0.000000</td>\n",
       "      <td>6</td>\n",
       "    </tr>\n",
       "    <tr>\n",
       "      <th>188555</th>\n",
       "      <td>PCN</td>\n",
       "      <td>Oceania</td>\n",
       "      <td>Pitcairn</td>\n",
       "      <td>2021-06-17</td>\n",
       "      <td>0.0</td>\n",
       "      <td>0.0</td>\n",
       "      <td>0.000</td>\n",
       "      <td>0.0</td>\n",
       "      <td>0.0</td>\n",
       "      <td>0.000</td>\n",
       "      <td>...</td>\n",
       "      <td>0.00</td>\n",
       "      <td>0.000</td>\n",
       "      <td>0.0</td>\n",
       "      <td>0.0</td>\n",
       "      <td>0.0</td>\n",
       "      <td>0.0</td>\n",
       "      <td>0.00000</td>\n",
       "      <td>0.000000</td>\n",
       "      <td>0.000000</td>\n",
       "      <td>6</td>\n",
       "    </tr>\n",
       "    <tr>\n",
       "      <th>188556</th>\n",
       "      <td>PCN</td>\n",
       "      <td>Oceania</td>\n",
       "      <td>Pitcairn</td>\n",
       "      <td>2021-06-18</td>\n",
       "      <td>0.0</td>\n",
       "      <td>0.0</td>\n",
       "      <td>0.000</td>\n",
       "      <td>0.0</td>\n",
       "      <td>0.0</td>\n",
       "      <td>0.000</td>\n",
       "      <td>...</td>\n",
       "      <td>0.00</td>\n",
       "      <td>0.000</td>\n",
       "      <td>0.0</td>\n",
       "      <td>0.0</td>\n",
       "      <td>0.0</td>\n",
       "      <td>0.0</td>\n",
       "      <td>0.00000</td>\n",
       "      <td>0.000000</td>\n",
       "      <td>0.000000</td>\n",
       "      <td>6</td>\n",
       "    </tr>\n",
       "    <tr>\n",
       "      <th>188557</th>\n",
       "      <td>PCN</td>\n",
       "      <td>Oceania</td>\n",
       "      <td>Pitcairn</td>\n",
       "      <td>2021-06-19</td>\n",
       "      <td>0.0</td>\n",
       "      <td>0.0</td>\n",
       "      <td>0.000</td>\n",
       "      <td>0.0</td>\n",
       "      <td>0.0</td>\n",
       "      <td>0.000</td>\n",
       "      <td>...</td>\n",
       "      <td>0.00</td>\n",
       "      <td>0.000</td>\n",
       "      <td>0.0</td>\n",
       "      <td>0.0</td>\n",
       "      <td>0.0</td>\n",
       "      <td>0.0</td>\n",
       "      <td>0.00000</td>\n",
       "      <td>0.000000</td>\n",
       "      <td>0.000000</td>\n",
       "      <td>6</td>\n",
       "    </tr>\n",
       "    <tr>\n",
       "      <th>188558</th>\n",
       "      <td>ESH</td>\n",
       "      <td>Africa</td>\n",
       "      <td>Western Sahara</td>\n",
       "      <td>2022-04-20</td>\n",
       "      <td>0.0</td>\n",
       "      <td>0.0</td>\n",
       "      <td>0.000</td>\n",
       "      <td>0.0</td>\n",
       "      <td>0.0</td>\n",
       "      <td>0.000</td>\n",
       "      <td>...</td>\n",
       "      <td>70.26</td>\n",
       "      <td>0.000</td>\n",
       "      <td>0.0</td>\n",
       "      <td>0.0</td>\n",
       "      <td>0.0</td>\n",
       "      <td>0.0</td>\n",
       "      <td>0.00000</td>\n",
       "      <td>0.000000</td>\n",
       "      <td>0.000000</td>\n",
       "      <td>4</td>\n",
       "    </tr>\n",
       "  </tbody>\n",
       "</table>\n",
       "<p>188559 rows × 71 columns</p>\n",
       "</div>"
      ],
      "text/plain": [
       "       iso_code      continent        location        date  total_cases  \\\n",
       "0           ARG  South America       Argentina  2022-05-15    9135308.0   \n",
       "1           ARG  South America       Argentina  2022-05-16    9135308.0   \n",
       "2           ARG  South America       Argentina  2022-05-17    9135308.0   \n",
       "3           ARG  South America       Argentina  2022-05-18    9135308.0   \n",
       "4           ARG  South America       Argentina  2022-05-19    9135308.0   \n",
       "...         ...            ...             ...         ...          ...   \n",
       "188554      PCN        Oceania        Pitcairn  2021-06-16          0.0   \n",
       "188555      PCN        Oceania        Pitcairn  2021-06-17          0.0   \n",
       "188556      PCN        Oceania        Pitcairn  2021-06-18          0.0   \n",
       "188557      PCN        Oceania        Pitcairn  2021-06-19          0.0   \n",
       "188558      ESH         Africa  Western Sahara  2022-04-20          0.0   \n",
       "\n",
       "        new_cases  new_cases_smoothed  total_deaths  new_deaths  \\\n",
       "0         33989.0            4855.571      128776.0        47.0   \n",
       "1             0.0            4855.571      128776.0         0.0   \n",
       "2             0.0            4855.571      128776.0         0.0   \n",
       "3             0.0            4855.571      128776.0         0.0   \n",
       "4             0.0            4855.571      128776.0         0.0   \n",
       "...           ...                 ...           ...         ...   \n",
       "188554        0.0               0.000           0.0         0.0   \n",
       "188555        0.0               0.000           0.0         0.0   \n",
       "188556        0.0               0.000           0.0         0.0   \n",
       "188557        0.0               0.000           0.0         0.0   \n",
       "188558        0.0               0.000           0.0         0.0   \n",
       "\n",
       "        new_deaths_smoothed  ...  life_expectancy  human_development_index  \\\n",
       "0                     6.714  ...            76.67                    0.845   \n",
       "1                     6.714  ...            76.67                    0.845   \n",
       "2                     6.714  ...            76.67                    0.845   \n",
       "3                     6.714  ...            76.67                    0.845   \n",
       "4                     6.714  ...            76.67                    0.845   \n",
       "...                     ...  ...              ...                      ...   \n",
       "188554                0.000  ...             0.00                    0.000   \n",
       "188555                0.000  ...             0.00                    0.000   \n",
       "188556                0.000  ...             0.00                    0.000   \n",
       "188557                0.000  ...             0.00                    0.000   \n",
       "188558                0.000  ...            70.26                    0.000   \n",
       "\n",
       "        excess_mortality_cumulative_absolute  excess_mortality_cumulative  \\\n",
       "0                                        0.0                          0.0   \n",
       "1                                        0.0                          0.0   \n",
       "2                                        0.0                          0.0   \n",
       "3                                        0.0                          0.0   \n",
       "4                                        0.0                          0.0   \n",
       "...                                      ...                          ...   \n",
       "188554                                   0.0                          0.0   \n",
       "188555                                   0.0                          0.0   \n",
       "188556                                   0.0                          0.0   \n",
       "188557                                   0.0                          0.0   \n",
       "188558                                   0.0                          0.0   \n",
       "\n",
       "        excess_mortality  excess_mortality_cumulative_per_million  \\\n",
       "0                    0.0                                      0.0   \n",
       "1                    0.0                                      0.0   \n",
       "2                    0.0                                      0.0   \n",
       "3                    0.0                                      0.0   \n",
       "4                    0.0                                      0.0   \n",
       "...                  ...                                      ...   \n",
       "188554               0.0                                      0.0   \n",
       "188555               0.0                                      0.0   \n",
       "188556               0.0                                      0.0   \n",
       "188557               0.0                                      0.0   \n",
       "188558               0.0                                      0.0   \n",
       "\n",
       "        mean_new_cases  mean_new_deaths        Rt  month  \n",
       "0          10514.08362       147.565865  1.279443      5  \n",
       "1          10514.08362       147.565865  1.279443      5  \n",
       "2          10514.08362       147.565865  1.279443      5  \n",
       "3          10514.08362       147.565865  1.279443      5  \n",
       "4          10514.08362       147.565865  1.279443      5  \n",
       "...                ...              ...       ...    ...  \n",
       "188554         0.00000         0.000000  0.000000      6  \n",
       "188555         0.00000         0.000000  0.000000      6  \n",
       "188556         0.00000         0.000000  0.000000      6  \n",
       "188557         0.00000         0.000000  0.000000      6  \n",
       "188558         0.00000         0.000000  0.000000      4  \n",
       "\n",
       "[188559 rows x 71 columns]"
      ]
     },
     "execution_count": 3,
     "metadata": {},
     "output_type": "execute_result"
    }
   ],
   "source": [
    "df"
   ]
  },
  {
   "cell_type": "code",
   "execution_count": 4,
   "metadata": {
    "id": "Hgq9ioqxqKjH"
   },
   "outputs": [],
   "source": [
    "#замена NaN на числа\n",
    "df.replace([np.inf, -np.inf], np.nan, inplace=True)"
   ]
  },
  {
   "cell_type": "code",
   "execution_count": 5,
   "metadata": {
    "id": "ERCoy-MMqKjK"
   },
   "outputs": [],
   "source": [
    "#отбрасываем строки, где значение Rt больше 5 \n",
    "df=df[df['Rt']<5].reset_index(drop=True)"
   ]
  },
  {
   "cell_type": "markdown",
   "metadata": {
    "id": "1wJxRTMYqKjN"
   },
   "source": [
    "### Определение переменной опасности"
   ]
  },
  {
   "cell_type": "code",
   "execution_count": 6,
   "metadata": {
    "id": "oLyCEb1QqKjQ",
    "outputId": "d96d5047-6090-43ac-bb89-320984a4b5dc"
   },
   "outputs": [
    {
     "name": "stderr",
     "output_type": "stream",
     "text": [
      "<ipython-input-6-3b437f3b700a>:3: SettingWithCopyWarning: \n",
      "A value is trying to be set on a copy of a slice from a DataFrame.\n",
      "Try using .loc[row_indexer,col_indexer] = value instead\n",
      "\n",
      "See the caveats in the documentation: https://pandas.pydata.org/pandas-docs/stable/user_guide/indexing.html#returning-a-view-versus-a-copy\n",
      "  df1['Danger']=1\n"
     ]
    }
   ],
   "source": [
    "#Присвоение группа опасности 1\n",
    "df1=df[df['Rt']<=0.6]\n",
    "df1['Danger']=1"
   ]
  },
  {
   "cell_type": "code",
   "execution_count": 7,
   "metadata": {
    "id": "IxvQUVnZqKjU",
    "outputId": "f0d778c4-1daf-4cf7-b9d5-3a7a9ba654c2"
   },
   "outputs": [
    {
     "name": "stderr",
     "output_type": "stream",
     "text": [
      "<ipython-input-7-27d0682b320e>:3: SettingWithCopyWarning: \n",
      "A value is trying to be set on a copy of a slice from a DataFrame.\n",
      "Try using .loc[row_indexer,col_indexer] = value instead\n",
      "\n",
      "See the caveats in the documentation: https://pandas.pydata.org/pandas-docs/stable/user_guide/indexing.html#returning-a-view-versus-a-copy\n",
      "  df2['Danger']=2\n"
     ]
    }
   ],
   "source": [
    "#Присвоение группа опасности 2\n",
    "df2=df[(df['Rt']>0.6) & (df['Rt']<=0.9)]\n",
    "df2['Danger']=2"
   ]
  },
  {
   "cell_type": "code",
   "execution_count": 8,
   "metadata": {
    "id": "q_gKyy57qKjY",
    "outputId": "9f306395-7b31-4a65-c7e2-96e7494be7dc"
   },
   "outputs": [
    {
     "name": "stderr",
     "output_type": "stream",
     "text": [
      "<ipython-input-8-91dcf782407d>:3: SettingWithCopyWarning: \n",
      "A value is trying to be set on a copy of a slice from a DataFrame.\n",
      "Try using .loc[row_indexer,col_indexer] = value instead\n",
      "\n",
      "See the caveats in the documentation: https://pandas.pydata.org/pandas-docs/stable/user_guide/indexing.html#returning-a-view-versus-a-copy\n",
      "  df3['Danger']=3\n"
     ]
    }
   ],
   "source": [
    "#Присвоение группа опасности 3\n",
    "df3=df[df['Rt']>0.9]\n",
    "df3['Danger']=3"
   ]
  },
  {
   "cell_type": "code",
   "execution_count": 9,
   "metadata": {
    "id": "1_zFtclMqKja"
   },
   "outputs": [],
   "source": [
    "#объединение групп опасности с основынм набором данных\n",
    "df=pd.concat([df1, df2, df3]).reset_index(drop=True)"
   ]
  },
  {
   "cell_type": "code",
   "execution_count": 10,
   "metadata": {},
   "outputs": [
    {
     "data": {
      "text/html": [
       "<div>\n",
       "<style scoped>\n",
       "    .dataframe tbody tr th:only-of-type {\n",
       "        vertical-align: middle;\n",
       "    }\n",
       "\n",
       "    .dataframe tbody tr th {\n",
       "        vertical-align: top;\n",
       "    }\n",
       "\n",
       "    .dataframe thead th {\n",
       "        text-align: right;\n",
       "    }\n",
       "</style>\n",
       "<table border=\"1\" class=\"dataframe\">\n",
       "  <thead>\n",
       "    <tr style=\"text-align: right;\">\n",
       "      <th></th>\n",
       "      <th>iso_code</th>\n",
       "      <th>continent</th>\n",
       "      <th>location</th>\n",
       "      <th>date</th>\n",
       "      <th>total_cases</th>\n",
       "      <th>new_cases</th>\n",
       "      <th>new_cases_smoothed</th>\n",
       "      <th>total_deaths</th>\n",
       "      <th>new_deaths</th>\n",
       "      <th>new_deaths_smoothed</th>\n",
       "      <th>...</th>\n",
       "      <th>human_development_index</th>\n",
       "      <th>excess_mortality_cumulative_absolute</th>\n",
       "      <th>excess_mortality_cumulative</th>\n",
       "      <th>excess_mortality</th>\n",
       "      <th>excess_mortality_cumulative_per_million</th>\n",
       "      <th>mean_new_cases</th>\n",
       "      <th>mean_new_deaths</th>\n",
       "      <th>Rt</th>\n",
       "      <th>month</th>\n",
       "      <th>Danger</th>\n",
       "    </tr>\n",
       "  </thead>\n",
       "  <tbody>\n",
       "    <tr>\n",
       "      <th>0</th>\n",
       "      <td>ARG</td>\n",
       "      <td>South America</td>\n",
       "      <td>Argentina</td>\n",
       "      <td>2022-05-07</td>\n",
       "      <td>9083673.0</td>\n",
       "      <td>0.0</td>\n",
       "      <td>1634.714</td>\n",
       "      <td>128653.0</td>\n",
       "      <td>0.0</td>\n",
       "      <td>15.857</td>\n",
       "      <td>...</td>\n",
       "      <td>0.845</td>\n",
       "      <td>0.0</td>\n",
       "      <td>0.0</td>\n",
       "      <td>0.0</td>\n",
       "      <td>0.0</td>\n",
       "      <td>10514.083620</td>\n",
       "      <td>147.565865</td>\n",
       "      <td>0.0</td>\n",
       "      <td>5</td>\n",
       "      <td>1</td>\n",
       "    </tr>\n",
       "    <tr>\n",
       "      <th>1</th>\n",
       "      <td>ARG</td>\n",
       "      <td>South America</td>\n",
       "      <td>Argentina</td>\n",
       "      <td>2022-05-08</td>\n",
       "      <td>9101319.0</td>\n",
       "      <td>17646.0</td>\n",
       "      <td>2520.857</td>\n",
       "      <td>128729.0</td>\n",
       "      <td>76.0</td>\n",
       "      <td>10.857</td>\n",
       "      <td>...</td>\n",
       "      <td>0.845</td>\n",
       "      <td>0.0</td>\n",
       "      <td>0.0</td>\n",
       "      <td>0.0</td>\n",
       "      <td>0.0</td>\n",
       "      <td>10514.083620</td>\n",
       "      <td>147.565865</td>\n",
       "      <td>0.0</td>\n",
       "      <td>5</td>\n",
       "      <td>1</td>\n",
       "    </tr>\n",
       "    <tr>\n",
       "      <th>2</th>\n",
       "      <td>ARG</td>\n",
       "      <td>South America</td>\n",
       "      <td>Argentina</td>\n",
       "      <td>2022-05-09</td>\n",
       "      <td>9101319.0</td>\n",
       "      <td>0.0</td>\n",
       "      <td>2520.857</td>\n",
       "      <td>128729.0</td>\n",
       "      <td>0.0</td>\n",
       "      <td>10.857</td>\n",
       "      <td>...</td>\n",
       "      <td>0.845</td>\n",
       "      <td>0.0</td>\n",
       "      <td>0.0</td>\n",
       "      <td>0.0</td>\n",
       "      <td>0.0</td>\n",
       "      <td>10514.083620</td>\n",
       "      <td>147.565865</td>\n",
       "      <td>0.0</td>\n",
       "      <td>5</td>\n",
       "      <td>1</td>\n",
       "    </tr>\n",
       "    <tr>\n",
       "      <th>3</th>\n",
       "      <td>ARG</td>\n",
       "      <td>South America</td>\n",
       "      <td>Argentina</td>\n",
       "      <td>2022-05-10</td>\n",
       "      <td>9101319.0</td>\n",
       "      <td>0.0</td>\n",
       "      <td>2520.857</td>\n",
       "      <td>128729.0</td>\n",
       "      <td>0.0</td>\n",
       "      <td>10.857</td>\n",
       "      <td>...</td>\n",
       "      <td>0.845</td>\n",
       "      <td>0.0</td>\n",
       "      <td>0.0</td>\n",
       "      <td>0.0</td>\n",
       "      <td>0.0</td>\n",
       "      <td>10514.083620</td>\n",
       "      <td>147.565865</td>\n",
       "      <td>0.0</td>\n",
       "      <td>5</td>\n",
       "      <td>1</td>\n",
       "    </tr>\n",
       "    <tr>\n",
       "      <th>4</th>\n",
       "      <td>ARG</td>\n",
       "      <td>South America</td>\n",
       "      <td>Argentina</td>\n",
       "      <td>2022-05-11</td>\n",
       "      <td>9101319.0</td>\n",
       "      <td>0.0</td>\n",
       "      <td>2520.857</td>\n",
       "      <td>128729.0</td>\n",
       "      <td>0.0</td>\n",
       "      <td>10.857</td>\n",
       "      <td>...</td>\n",
       "      <td>0.845</td>\n",
       "      <td>0.0</td>\n",
       "      <td>0.0</td>\n",
       "      <td>0.0</td>\n",
       "      <td>0.0</td>\n",
       "      <td>10514.083620</td>\n",
       "      <td>147.565865</td>\n",
       "      <td>0.0</td>\n",
       "      <td>5</td>\n",
       "      <td>1</td>\n",
       "    </tr>\n",
       "    <tr>\n",
       "      <th>...</th>\n",
       "      <td>...</td>\n",
       "      <td>...</td>\n",
       "      <td>...</td>\n",
       "      <td>...</td>\n",
       "      <td>...</td>\n",
       "      <td>...</td>\n",
       "      <td>...</td>\n",
       "      <td>...</td>\n",
       "      <td>...</td>\n",
       "      <td>...</td>\n",
       "      <td>...</td>\n",
       "      <td>...</td>\n",
       "      <td>...</td>\n",
       "      <td>...</td>\n",
       "      <td>...</td>\n",
       "      <td>...</td>\n",
       "      <td>...</td>\n",
       "      <td>...</td>\n",
       "      <td>...</td>\n",
       "      <td>...</td>\n",
       "      <td>...</td>\n",
       "    </tr>\n",
       "    <tr>\n",
       "      <th>178620</th>\n",
       "      <td>PLW</td>\n",
       "      <td>Oceania</td>\n",
       "      <td>Palau</td>\n",
       "      <td>2022-01-04</td>\n",
       "      <td>13.0</td>\n",
       "      <td>0.0</td>\n",
       "      <td>0.429</td>\n",
       "      <td>0.0</td>\n",
       "      <td>0.0</td>\n",
       "      <td>0.000</td>\n",
       "      <td>...</td>\n",
       "      <td>0.826</td>\n",
       "      <td>0.0</td>\n",
       "      <td>0.0</td>\n",
       "      <td>0.0</td>\n",
       "      <td>0.0</td>\n",
       "      <td>18.127737</td>\n",
       "      <td>0.021898</td>\n",
       "      <td>1.0</td>\n",
       "      <td>1</td>\n",
       "      <td>3</td>\n",
       "    </tr>\n",
       "    <tr>\n",
       "      <th>178621</th>\n",
       "      <td>PLW</td>\n",
       "      <td>Oceania</td>\n",
       "      <td>Palau</td>\n",
       "      <td>2022-01-05</td>\n",
       "      <td>15.0</td>\n",
       "      <td>2.0</td>\n",
       "      <td>0.714</td>\n",
       "      <td>0.0</td>\n",
       "      <td>0.0</td>\n",
       "      <td>0.000</td>\n",
       "      <td>...</td>\n",
       "      <td>0.826</td>\n",
       "      <td>0.0</td>\n",
       "      <td>0.0</td>\n",
       "      <td>0.0</td>\n",
       "      <td>0.0</td>\n",
       "      <td>18.127737</td>\n",
       "      <td>0.021898</td>\n",
       "      <td>1.0</td>\n",
       "      <td>1</td>\n",
       "      <td>3</td>\n",
       "    </tr>\n",
       "    <tr>\n",
       "      <th>178622</th>\n",
       "      <td>PLW</td>\n",
       "      <td>Oceania</td>\n",
       "      <td>Palau</td>\n",
       "      <td>2022-01-06</td>\n",
       "      <td>16.0</td>\n",
       "      <td>1.0</td>\n",
       "      <td>0.857</td>\n",
       "      <td>0.0</td>\n",
       "      <td>0.0</td>\n",
       "      <td>0.000</td>\n",
       "      <td>...</td>\n",
       "      <td>0.826</td>\n",
       "      <td>0.0</td>\n",
       "      <td>0.0</td>\n",
       "      <td>0.0</td>\n",
       "      <td>0.0</td>\n",
       "      <td>18.127737</td>\n",
       "      <td>0.021898</td>\n",
       "      <td>1.0</td>\n",
       "      <td>1</td>\n",
       "      <td>3</td>\n",
       "    </tr>\n",
       "    <tr>\n",
       "      <th>178623</th>\n",
       "      <td>PLW</td>\n",
       "      <td>Oceania</td>\n",
       "      <td>Palau</td>\n",
       "      <td>2021-08-22</td>\n",
       "      <td>1.0</td>\n",
       "      <td>1.0</td>\n",
       "      <td>0.000</td>\n",
       "      <td>0.0</td>\n",
       "      <td>0.0</td>\n",
       "      <td>0.000</td>\n",
       "      <td>...</td>\n",
       "      <td>0.826</td>\n",
       "      <td>0.0</td>\n",
       "      <td>0.0</td>\n",
       "      <td>0.0</td>\n",
       "      <td>0.0</td>\n",
       "      <td>18.127737</td>\n",
       "      <td>0.021898</td>\n",
       "      <td>1.0</td>\n",
       "      <td>8</td>\n",
       "      <td>3</td>\n",
       "    </tr>\n",
       "    <tr>\n",
       "      <th>178624</th>\n",
       "      <td>PLW</td>\n",
       "      <td>Oceania</td>\n",
       "      <td>Palau</td>\n",
       "      <td>2021-08-23</td>\n",
       "      <td>1.0</td>\n",
       "      <td>0.0</td>\n",
       "      <td>0.000</td>\n",
       "      <td>0.0</td>\n",
       "      <td>0.0</td>\n",
       "      <td>0.000</td>\n",
       "      <td>...</td>\n",
       "      <td>0.826</td>\n",
       "      <td>0.0</td>\n",
       "      <td>0.0</td>\n",
       "      <td>0.0</td>\n",
       "      <td>0.0</td>\n",
       "      <td>18.127737</td>\n",
       "      <td>0.021898</td>\n",
       "      <td>1.0</td>\n",
       "      <td>8</td>\n",
       "      <td>3</td>\n",
       "    </tr>\n",
       "  </tbody>\n",
       "</table>\n",
       "<p>178625 rows × 72 columns</p>\n",
       "</div>"
      ],
      "text/plain": [
       "       iso_code      continent   location        date  total_cases  new_cases  \\\n",
       "0           ARG  South America  Argentina  2022-05-07    9083673.0        0.0   \n",
       "1           ARG  South America  Argentina  2022-05-08    9101319.0    17646.0   \n",
       "2           ARG  South America  Argentina  2022-05-09    9101319.0        0.0   \n",
       "3           ARG  South America  Argentina  2022-05-10    9101319.0        0.0   \n",
       "4           ARG  South America  Argentina  2022-05-11    9101319.0        0.0   \n",
       "...         ...            ...        ...         ...          ...        ...   \n",
       "178620      PLW        Oceania      Palau  2022-01-04         13.0        0.0   \n",
       "178621      PLW        Oceania      Palau  2022-01-05         15.0        2.0   \n",
       "178622      PLW        Oceania      Palau  2022-01-06         16.0        1.0   \n",
       "178623      PLW        Oceania      Palau  2021-08-22          1.0        1.0   \n",
       "178624      PLW        Oceania      Palau  2021-08-23          1.0        0.0   \n",
       "\n",
       "        new_cases_smoothed  total_deaths  new_deaths  new_deaths_smoothed  \\\n",
       "0                 1634.714      128653.0         0.0               15.857   \n",
       "1                 2520.857      128729.0        76.0               10.857   \n",
       "2                 2520.857      128729.0         0.0               10.857   \n",
       "3                 2520.857      128729.0         0.0               10.857   \n",
       "4                 2520.857      128729.0         0.0               10.857   \n",
       "...                    ...           ...         ...                  ...   \n",
       "178620               0.429           0.0         0.0                0.000   \n",
       "178621               0.714           0.0         0.0                0.000   \n",
       "178622               0.857           0.0         0.0                0.000   \n",
       "178623               0.000           0.0         0.0                0.000   \n",
       "178624               0.000           0.0         0.0                0.000   \n",
       "\n",
       "        ...  human_development_index  excess_mortality_cumulative_absolute  \\\n",
       "0       ...                    0.845                                   0.0   \n",
       "1       ...                    0.845                                   0.0   \n",
       "2       ...                    0.845                                   0.0   \n",
       "3       ...                    0.845                                   0.0   \n",
       "4       ...                    0.845                                   0.0   \n",
       "...     ...                      ...                                   ...   \n",
       "178620  ...                    0.826                                   0.0   \n",
       "178621  ...                    0.826                                   0.0   \n",
       "178622  ...                    0.826                                   0.0   \n",
       "178623  ...                    0.826                                   0.0   \n",
       "178624  ...                    0.826                                   0.0   \n",
       "\n",
       "        excess_mortality_cumulative  excess_mortality  \\\n",
       "0                               0.0               0.0   \n",
       "1                               0.0               0.0   \n",
       "2                               0.0               0.0   \n",
       "3                               0.0               0.0   \n",
       "4                               0.0               0.0   \n",
       "...                             ...               ...   \n",
       "178620                          0.0               0.0   \n",
       "178621                          0.0               0.0   \n",
       "178622                          0.0               0.0   \n",
       "178623                          0.0               0.0   \n",
       "178624                          0.0               0.0   \n",
       "\n",
       "        excess_mortality_cumulative_per_million  mean_new_cases  \\\n",
       "0                                           0.0    10514.083620   \n",
       "1                                           0.0    10514.083620   \n",
       "2                                           0.0    10514.083620   \n",
       "3                                           0.0    10514.083620   \n",
       "4                                           0.0    10514.083620   \n",
       "...                                         ...             ...   \n",
       "178620                                      0.0       18.127737   \n",
       "178621                                      0.0       18.127737   \n",
       "178622                                      0.0       18.127737   \n",
       "178623                                      0.0       18.127737   \n",
       "178624                                      0.0       18.127737   \n",
       "\n",
       "        mean_new_deaths   Rt  month  Danger  \n",
       "0            147.565865  0.0      5       1  \n",
       "1            147.565865  0.0      5       1  \n",
       "2            147.565865  0.0      5       1  \n",
       "3            147.565865  0.0      5       1  \n",
       "4            147.565865  0.0      5       1  \n",
       "...                 ...  ...    ...     ...  \n",
       "178620         0.021898  1.0      1       3  \n",
       "178621         0.021898  1.0      1       3  \n",
       "178622         0.021898  1.0      1       3  \n",
       "178623         0.021898  1.0      8       3  \n",
       "178624         0.021898  1.0      8       3  \n",
       "\n",
       "[178625 rows x 72 columns]"
      ]
     },
     "execution_count": 10,
     "metadata": {},
     "output_type": "execute_result"
    }
   ],
   "source": [
    "df"
   ]
  },
  {
   "cell_type": "markdown",
   "metadata": {},
   "source": [
    "Был добавлен дополнительный атрибут Danger, который означает уровень опасности эпидемиологической ситуации в стране"
   ]
  },
  {
   "cell_type": "markdown",
   "metadata": {},
   "source": [
    "### Визуализация"
   ]
  },
  {
   "cell_type": "markdown",
   "metadata": {},
   "source": [
    "Для анализа данных с помощью визуализации были выбраны слующие способы: гистограмма и линейный график. Эти способы были выбраны, так как в этой задаче они способны наиболее наглядно отрпзить зависимость целевой переменной от атрибутов"
   ]
  },
  {
   "cell_type": "code",
   "execution_count": 11,
   "metadata": {},
   "outputs": [
    {
     "data": {
      "text/plain": [
       "<seaborn.axisgrid.FacetGrid at 0x21c7b331cd0>"
      ]
     },
     "execution_count": 11,
     "metadata": {},
     "output_type": "execute_result"
    },
    {
     "data": {
      "image/png": "[encoded data removed]",
      "text/plain": [
       "<Figure size 360x360 with 1 Axes>"
      ]
     },
     "metadata": {
      "needs_background": "light"
     },
     "output_type": "display_data"
    }
   ],
   "source": [
    "sns.catplot(x=\"month\", y=\"Danger\", kind=\"bar\", data=df)"
   ]
  },
  {
   "cell_type": "code",
   "execution_count": 14,
   "metadata": {},
   "outputs": [
    {
     "data": {
      "text/plain": [
       "<AxesSubplot:xlabel='mean_new_cases', ylabel='Danger'>"
      ]
     },
     "execution_count": 14,
     "metadata": {},
     "output_type": "execute_result"
    },
    {
     "data": {
      "image/png": "[encoded data removed]",
      "text/plain": [
       "<Figure size 432x288 with 1 Axes>"
      ]
     },
     "metadata": {
      "needs_background": "light"
     },
     "output_type": "display_data"
    }
   ],
   "source": [
    "sns.lineplot(x='mean_new_cases', y='Danger',data=df)"
   ]
  },
  {
   "cell_type": "code",
   "execution_count": 15,
   "metadata": {},
   "outputs": [
    {
     "data": {
      "text/plain": [
       "<AxesSubplot:xlabel='mean_new_deaths', ylabel='Danger'>"
      ]
     },
     "execution_count": 15,
     "metadata": {},
     "output_type": "execute_result"
    },
    {
     "data": {
      "image/png": "[encoded data removed]",
      "text/plain": [
       "<Figure size 432x288 with 1 Axes>"
      ]
     },
     "metadata": {
      "needs_background": "light"
     },
     "output_type": "display_data"
    }
   ],
   "source": [
    "sns.lineplot(x='mean_new_deaths',y='Danger',data=df)"
   ]
  },
  {
   "cell_type": "markdown",
   "metadata": {},
   "source": [
    "### Разбиение набора на обчающиую и тестовую выборки"
   ]
  },
  {
   "cell_type": "code",
   "execution_count": 16,
   "metadata": {
    "id": "0fqxl5RpqKjc"
   },
   "outputs": [],
   "source": [
    "X=df[['new_cases', 'new_deaths', 'Rt']]\n",
    "y=df['Danger']"
   ]
  },
  {
   "cell_type": "code",
   "execution_count": 17,
   "metadata": {
    "id": "3AsrF2R_qKjd"
   },
   "outputs": [],
   "source": [
    "#Получение выборок\n",
    "from sklearn.model_selection import train_test_split\n",
    "X_train, X_test, y_train, y_test = train_test_split(X, y, test_size=0.33, random_state=42, stratify=y)"
   ]
  },
  {
   "cell_type": "markdown",
   "metadata": {
    "id": "7khorwiUqKjf"
   },
   "source": [
    "## 2.3 Классификация \n",
    "\n",
    "Рассмотрим три модели классификации\n",
    "### KNeighborsClassifier\n",
    "Классификация на основе соседей - это тип обучения на основе экземпляров или необобщающего обучения: он не пытается построить общую внутреннюю модель, а просто сохраняет экземпляры обучающих данных. Классификация вычисляется простым большинством голосов ближайших соседей каждой точки: точке запроса назначается класс данных, который имеет наибольшее количество представителей среди ближайших соседей точки.\n",
    "\n",
    "### RandomForestClassifier\n",
    "Случайный лес — это метаоценка, которая соответствует ряду классификаторов дерева решений для различных подвыборок набора данных и использует усреднение для повышения точности прогнозирования и контроля переобучения. Размер подвыборки управляется параметром max_samples, если bootstrap=True (по умолчанию), в противном случае для построения каждого дерева используется весь набор данных\n",
    "### GaussianNB\n",
    "Наи́вный ба́йесовский классифика́тор — простой вероятностный классификатор, основанный на применении теоремы Байеса со строгими (наивными) предположениями о независимости. В зависимости от точной природы вероятностной модели, наивные байесовские классификаторы могут обучаться очень эффективно\n",
    "\n",
    "## Метрики\n",
    "Рассмотрим две метрикики для оценивания модели классификации\n",
    "\n",
    "### accuracy f1-score\n",
    "Это гармоническое среднее значений точности и полноты. Возьмём её, потому что она дает лучшую оценку неправильно классифицированных случаев\n",
    "\n",
    "### macro avg f1-score\n",
    "\n",
    "macro avg f1-score пожалуй, самый простой из многочисленных методов усреднения. Макроусредненная оценка F1 (или макрооценка F1) вычисляется путем взятия среднего арифметического (также известного как невзвешенное среднее) всех оценок F1 для каждого класса. Этот метод будет взят, поскольку он обрабатывает все классы одинаково, независимо от их значений поддержки"
   ]
  },
  {
   "cell_type": "markdown",
   "metadata": {
    "id": "lDg6_EWoqKjj"
   },
   "source": [
    "## 2.4 Обучение"
   ]
  },
  {
   "cell_type": "code",
   "execution_count": 18,
   "metadata": {
    "id": "sQOv4fd_qKjl"
   },
   "outputs": [],
   "source": [
    "#Импорт моделей\n",
    "from sklearn.metrics import classification_report\n",
    "from sklearn.neighbors import KNeighborsClassifier\n",
    "from sklearn.ensemble import RandomForestClassifier\n",
    "from sklearn.naive_bayes import GaussianNB"
   ]
  },
  {
   "cell_type": "code",
   "execution_count": 19,
   "metadata": {
    "id": "T1Qbk2LbqKjn",
    "outputId": "12e73f37-d421-454a-b375-152900a8fe40"
   },
   "outputs": [
    {
     "name": "stdout",
     "output_type": "stream",
     "text": [
      "              precision    recall  f1-score   support\n",
      "\n",
      "           1       0.89      0.89      0.89     16122\n",
      "           2       0.57      0.65      0.60     11145\n",
      "           3       0.86      0.82      0.84     31680\n",
      "\n",
      "    accuracy                           0.81     58947\n",
      "   macro avg       0.77      0.79      0.78     58947\n",
      "weighted avg       0.81      0.81      0.81     58947\n",
      "\n"
     ]
    }
   ],
   "source": [
    "#Обучение\n",
    "neigh = KNeighborsClassifier(n_neighbors=3)\n",
    "neigh.fit(X_train, y_train)\n",
    "preds=neigh.predict(X_test)\n",
    "print(classification_report(preds, y_test))"
   ]
  },
  {
   "cell_type": "code",
   "execution_count": 20,
   "metadata": {
    "id": "J0eAfjPIqKjp",
    "outputId": "b3f639c8-0abb-4a50-c181-f3a008ca393f"
   },
   "outputs": [
    {
     "name": "stdout",
     "output_type": "stream",
     "text": [
      "              precision    recall  f1-score   support\n",
      "\n",
      "           1       1.00      1.00      1.00     16094\n",
      "           2       1.00      1.00      1.00     12737\n",
      "           3       1.00      1.00      1.00     30116\n",
      "\n",
      "    accuracy                           1.00     58947\n",
      "   macro avg       1.00      1.00      1.00     58947\n",
      "weighted avg       1.00      1.00      1.00     58947\n",
      "\n"
     ]
    }
   ],
   "source": [
    "#Обучение\n",
    "rfc = RandomForestClassifier()\n",
    "rfc.fit(X_train, y_train)\n",
    "rfc_preds=rfc.predict(X_test)\n",
    "print(classification_report(rfc_preds, y_test))"
   ]
  },
  {
   "cell_type": "code",
   "execution_count": 21,
   "metadata": {
    "id": "ovk2o8vyqKjq",
    "outputId": "acd98ce8-c5a2-40b8-c9b8-789bc07ca76e"
   },
   "outputs": [
    {
     "name": "stdout",
     "output_type": "stream",
     "text": [
      "              precision    recall  f1-score   support\n",
      "\n",
      "           1       0.99      0.29      0.45     54591\n",
      "           2       0.02      0.32      0.05       988\n",
      "           3       0.08      0.68      0.14      3368\n",
      "\n",
      "    accuracy                           0.31     58947\n",
      "   macro avg       0.36      0.43      0.21     58947\n",
      "weighted avg       0.92      0.31      0.43     58947\n",
      "\n"
     ]
    }
   ],
   "source": [
    "#Обучение\n",
    "gnb = GaussianNB()\n",
    "gnb.fit(X_train, y_train)\n",
    "gnb_preds=gnb.predict(X_test)\n",
    "print(classification_report(gnb_preds, y_test))"
   ]
  },
  {
   "cell_type": "markdown",
   "metadata": {
    "id": "EPA_2ni7qKjs"
   },
   "source": [
    "### Вывод\n",
    "Наиболее оптимальной моделью будет `KNeighborsClassifier` c accuracy f1-score = `0.78` и macro avg f1-score = `0.74`, поскольку по сравнению с другими он показал наилучший результат. `RandomForestClassifier` не будет взят, поскольку у него явное переобучение"
   ]
  },
  {
   "cell_type": "markdown",
   "metadata": {
    "id": "wRB1oh1JqKjt"
   },
   "source": [
    "## Отчёт\n",
    "* 2.1 Разбиение набора данных - набор данныхз разбит на обучаюшую и тестовую выборки\n",
    "* 2.3 Классификация - выбраны 3 алгоритма классификации\n",
    "* 2.4 Обучение - произведена классификация по уровню опасности"
   ]
  },
  {
   "cell_type": "code",
   "execution_count": 22,
   "metadata": {
    "id": "VsTgBhogqKju"
   },
   "outputs": [],
   "source": [
    "# Сохранение данных\n",
    "df.to_csv('result_data.csv', encoding='utf-8-sig', index=False)"
   ]
  },
  {
   "cell_type": "code",
   "execution_count": null,
   "metadata": {},
   "outputs": [],
   "source": []
  }
 ],
 "metadata": {
  "colab": {
   "name": "Report2.ipynb",
   "provenance": []
  },
  "kernelspec": {
   "display_name": "Python 3",
   "language": "python",
   "name": "python3"
  },
  "language_info": {
   "codemirror_mode": {
    "name": "ipython",
    "version": 3
   },
   "file_extension": ".py",
   "mimetype": "text/x-python",
   "name": "python",
   "nbconvert_exporter": "python",
   "pygments_lexer": "ipython3",
   "version": "3.8.8"
  },
  "toc": {
   "base_numbering": 1,
   "nav_menu": {},
   "number_sections": true,
   "sideBar": true,
   "skip_h1_title": false,
   "title_cell": "Table of Contents",
   "title_sidebar": "Contents",
   "toc_cell": false,
   "toc_position": {},
   "toc_section_display": true,
   "toc_window_display": false
  }
 },
 "nbformat": 4,
 "nbformat_minor": 1
}
